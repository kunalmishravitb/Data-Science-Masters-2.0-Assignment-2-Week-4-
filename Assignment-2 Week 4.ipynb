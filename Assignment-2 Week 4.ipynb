{
 "cells": [
  {
   "cell_type": "markdown",
   "id": "8f14efdf",
   "metadata": {},
   "source": [
    "## Q1. What is Abstraction in OOPs? Explain with an example."
   ]
  },
  {
   "cell_type": "markdown",
   "id": "af8c6389",
   "metadata": {},
   "source": [
    "Abstraction in OOPs: Abstraction is a fundamental concept in object-oriented programming that focuses on representing essential features and behaviors while hiding unnecessary details. It allows us to create abstract classes or interfaces that define common attributes and methods without providing implementation details. Abstraction helps in simplifying complex systems by breaking them down into manageable and understandable components.\n",
    "\n",
    "Example: Consider an abstract class called \"Shape\" that represents different shapes. The Shape class defines a common method called \"calculate_area()\" that all shapes should have, but it doesn't provide the implementation of how to calculate the area for each shape. Instead, it leaves that implementation to the subclasses."
   ]
  },
  {
   "cell_type": "code",
   "execution_count": 1,
   "id": "3cb2dabf",
   "metadata": {},
   "outputs": [],
   "source": [
    "from abc import ABC, abstractmethod\n",
    "\n",
    "class Shape(ABC):\n",
    "    @abstractmethod\n",
    "    def calculate_area(self):\n",
    "        pass\n",
    "\n",
    "class Circle(Shape):\n",
    "    def __init__(self, radius):\n",
    "        self.radius = radius\n",
    "    \n",
    "    def calculate_area(self):\n",
    "        return 3.14 * self.radius**2\n",
    "\n",
    "class Rectangle(Shape):\n",
    "    def __init__(self, length, width):\n",
    "        self.length = length\n",
    "        self.width = width\n",
    "    \n",
    "    def calculate_area(self):\n",
    "        return self.length * self.width"
   ]
  },
  {
   "cell_type": "code",
   "execution_count": 2,
   "id": "1a020e15",
   "metadata": {},
   "outputs": [],
   "source": [
    "circle = Circle(5)"
   ]
  },
  {
   "cell_type": "code",
   "execution_count": 3,
   "id": "8d40e708",
   "metadata": {},
   "outputs": [
    {
     "name": "stdout",
     "output_type": "stream",
     "text": [
      "78.5\n"
     ]
    }
   ],
   "source": [
    "print(circle.calculate_area())"
   ]
  },
  {
   "cell_type": "code",
   "execution_count": 4,
   "id": "dad8c406",
   "metadata": {},
   "outputs": [],
   "source": [
    "rectangle = Rectangle(3, 4)"
   ]
  },
  {
   "cell_type": "code",
   "execution_count": 5,
   "id": "9a04951e",
   "metadata": {},
   "outputs": [
    {
     "name": "stdout",
     "output_type": "stream",
     "text": [
      "12\n"
     ]
    }
   ],
   "source": [
    "print(rectangle.calculate_area())"
   ]
  },
  {
   "cell_type": "markdown",
   "id": "b57a8fec",
   "metadata": {},
   "source": [
    "In this example, the Shape class is an abstract class with an abstract method called \"calculate_area()\". It defines the common behavior expected from shapes but doesn't provide the specific implementation for calculating the area. The Circle and Rectangle classes are concrete subclasses of the Shape class that provide their own implementations of the \"calculate_area()\" method based on their specific shape formulas. By using abstraction, we can define a common interface for shapes without worrying about the implementation details."
   ]
  },
  {
   "cell_type": "markdown",
   "id": "ea9622e3",
   "metadata": {},
   "source": [
    "## Q2. Differentiate between Abstraction and Encapsulation. Explain with an example."
   ]
  },
  {
   "cell_type": "markdown",
   "id": "1b7af193",
   "metadata": {},
   "source": [
    "Abstraction: Abstraction focuses on representing essential features and behaviors while hiding unnecessary details. It involves creating abstract classes or interfaces that define common attributes and methods without providing implementation details. Abstraction simplifies complex systems by breaking them down into manageable and understandable components.\n",
    "\n",
    "Encapsulation: Encapsulation, on the other hand, is the bundling of data and methods within a class, hiding the internal details and providing controlled access to the data. It ensures data protection and improves code organization and reusability.\n",
    "\n",
    "Example:"
   ]
  },
  {
   "cell_type": "code",
   "execution_count": 6,
   "id": "0af09b4b",
   "metadata": {},
   "outputs": [],
   "source": [
    "class BankAccount:\n",
    "    def __init__(self, account_number, balance):\n",
    "        self.account_number = account_number\n",
    "        self.balance = balance\n",
    "\n",
    "    def deposit(self, amount):\n",
    "        self.balance += amount\n",
    "\n",
    "    def withdraw(self, amount):\n",
    "        if amount <= self.balance:\n",
    "            self.balance -= amount\n",
    "        else:\n",
    "            print(\"Insufficient balance.\")\n",
    "\n",
    "    def get_balance(self):\n",
    "        return self.balance"
   ]
  },
  {
   "cell_type": "markdown",
   "id": "c1342253",
   "metadata": {},
   "source": [
    "In this example, the BankAccount class encapsulates the data (account_number, balance) and methods (deposit, withdraw, get_balance) related to a bank account. It hides the internal implementation details and provides a clean interface for interacting with the bank account. The data is encapsulated within the class, and access to it is controlled through the methods. On the other hand, abstraction can be seen in the concept of a bank account itself, where we define the essential behaviors (deposit, withdraw) without specifying the internal implementation details."
   ]
  },
  {
   "cell_type": "markdown",
   "id": "e20e39c3",
   "metadata": {},
   "source": [
    "## Q3. What is abc module in python? Why is it used?"
   ]
  },
  {
   "cell_type": "markdown",
   "id": "5c506a92",
   "metadata": {},
   "source": [
    "The abc module in Python stands for \"Abstract Base Classes\". It provides a way to define abstract classes in Python. An abstract class is a class that cannot be instantiated directly and serves as a blueprint for other classes. It defines a common interface or contract that its subclasses must implement.\n",
    "\n",
    "The abc module provides the ABC class and the abstractmethod decorator, which allow us to create abstract classes and abstract methods, respectively. The ABC class is used as a base class for creating abstract classes, and the abstractmethod decorator is used to mark a method as abstract, indicating that it must be implemented in the subclass.\n",
    "\n",
    "The abc module is used when we want to define a class that should enforce a specific set of methods that its subclasses must implement. It helps in achieving a certain level of interface or contract enforcement in the class hierarchy."
   ]
  },
  {
   "cell_type": "markdown",
   "id": "cde5d8ce",
   "metadata": {},
   "source": [
    "## Q4. How can we achieve data abstraction?"
   ]
  },
  {
   "cell_type": "markdown",
   "id": "082d7ecc",
   "metadata": {},
   "source": [
    "Data abstraction can be achieved in Python by using abstract classes or interfaces. Abstract classes define a common interface for subclasses without providing implementation details. They can have both abstract methods (methods without implementation) and concrete methods (methods with implementation). Subclasses of abstract classes inherit the common interface and are responsible for implementing the abstract methods.\n",
    "\n",
    "By defining abstract classes and methods, we can enforce a certain structure and behavior across related classes. It allows us to separate the concept or interface from the implementation details. Data abstraction helps in simplifying complex systems, improving code organization and reusability, and providing a clear separation of concerns."
   ]
  },
  {
   "cell_type": "markdown",
   "id": "27a1e1a4",
   "metadata": {},
   "source": [
    "## Q5. Can we create an instance of an abstract class? Explain your answer."
   ]
  },
  {
   "cell_type": "markdown",
   "id": "4b405772",
   "metadata": {},
   "source": [
    "No, we cannot create an instance of an abstract class in Python. An abstract class is a class that is meant to be inherited from and cannot be instantiated directly. It acts as a blueprint or template for creating subclasses that provide concrete implementations of the abstract methods defined in the abstract class.\n",
    "\n",
    "An abstract class is created by inheriting from the ABC class provided by the abc module and using the abstractmethod decorator to mark methods as abstract. When we define an abstract method in an abstract class, we are signaling that any subclass of that abstract class must implement that method.\n",
    "\n",
    "Attempting to create an instance of an abstract class will result in a TypeError. Abstract classes are meant to be subclassed, and their purpose is to provide a common interface or contract for subclasses to follow. It is the responsibility of the subclasses to provide the implementation for the abstract methods and create instances of the subclasses instead."
   ]
  }
 ],
 "metadata": {
  "kernelspec": {
   "display_name": "Python 3 (ipykernel)",
   "language": "python",
   "name": "python3"
  },
  "language_info": {
   "codemirror_mode": {
    "name": "ipython",
    "version": 3
   },
   "file_extension": ".py",
   "mimetype": "text/x-python",
   "name": "python",
   "nbconvert_exporter": "python",
   "pygments_lexer": "ipython3",
   "version": "3.10.0"
  }
 },
 "nbformat": 4,
 "nbformat_minor": 5
}
